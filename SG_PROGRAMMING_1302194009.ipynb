{
  "nbformat": 4,
  "nbformat_minor": 0,
  "metadata": {
    "colab": {
      "name": "SG_PROGRAMMING_1302194009.ipynb",
      "provenance": []
    },
    "kernelspec": {
      "name": "python3",
      "display_name": "Python 3"
    }
  },
  "cells": [
    {
      "cell_type": "code",
      "metadata": {
        "colab": {
          "base_uri": "https://localhost:8080/",
          "height": 129
        },
        "id": "ZPUG0oiGvCZU",
        "outputId": "e2bf9e70-66dd-4235-f81f-92a7b3610494"
      },
      "source": [
        "#Luas Permukaan bola & Volume bola\r\n",
        "phi=(22/7)\r\n",
        "r=int(input(\"masukkan panjang jari - jari\"))\r\n",
        "\r\n",
        "luasPermukaan = int(4*phi*(r*r))\r\n",
        "volume = int(4/3*phi*r*r*r)\r\n",
        "\r\n",
        "print(\"Luas Permukaan\", luasPermukaan)\r\n",
        "print(\"Volume Bola\", volume)"
      ],
      "execution_count": 8,
      "outputs": [
        {
          "output_type": "error",
          "ename": "SyntaxError",
          "evalue": "ignored",
          "traceback": [
            "\u001b[0;36m  File \u001b[0;32m\"<ipython-input-8-2809be61ee5e>\"\u001b[0;36m, line \u001b[0;32m1\u001b[0m\n\u001b[0;31m    (/Luas, Permukaan, bola, &, Volume, bola)\u001b[0m\n\u001b[0m     ^\u001b[0m\n\u001b[0;31mSyntaxError\u001b[0m\u001b[0;31m:\u001b[0m invalid syntax\n"
          ]
        }
      ]
    },
    {
      "cell_type": "code",
      "metadata": {
        "colab": {
          "base_uri": "https://localhost:8080/"
        },
        "id": "B-X9x-yOvfC5",
        "outputId": "7dbafaf7-c106-4417-ca29-24b8ced29632"
      },
      "source": [
        "#Luas permukaan tabung & volume tabung\r\n",
        "phi=(22/7)\r\n",
        "r=int(input(\"masukkan panjang jari - jari \"))\r\n",
        "t=int(input(\"masukkan tinggi tabung \"))\r\n",
        "\r\n",
        "lp = int(2*phi*r*(r+t))\r\n",
        "v = int(phi*r*r*t)\r\n",
        "\r\n",
        "print(\"Luas Tabungnya : \", lp)\r\n",
        "print(\"Volume Tabungnya adalah\", v)"
      ],
      "execution_count": 7,
      "outputs": [
        {
          "output_type": "stream",
          "text": [
            "masukkan panjang jari - jari 10\n",
            "masukkan tinggi tabung 150\n",
            "Luas Tabungnya :  10057\n",
            "Volume Tabungnya adalah 47142\n"
          ],
          "name": "stdout"
        }
      ]
    },
    {
      "cell_type": "code",
      "metadata": {
        "id": "W7Rq9W_MyGDV"
      },
      "source": [
        "#Luas permukaan kerucut & volume kerucut\r\n",
        "phi=(22/7)\r\n",
        "r=int(input(\"masukkan panjang jari - jari \"))\r\n",
        "t=int(input(\"masukkan tinggi kerucut \"))\r\n",
        "s=int(input(\"garis pelukis? \"))\r\n",
        "\r\n",
        "lp = int((phi*r*r) + (phi*r*s))\r\n",
        "v = int(1/3*phi*r*r*t)\r\n",
        "\r\n",
        "print(\"Maka Luas Kerucutnya adalah\", lp)\r\n",
        "print(\"dan Volume Kerucutnya adalah\", v)"
      ],
      "execution_count": null,
      "outputs": []
    }
  ]
}