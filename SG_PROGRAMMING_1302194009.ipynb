{
  "nbformat": 4,
  "nbformat_minor": 0,
  "metadata": {
    "colab": {
      "name": "SG_PROGRAMMING_1302194009.ipynb",
      "provenance": []
    },
    "kernelspec": {
      "name": "python3",
      "display_name": "Python 3"
    }
  },
  "cells": [
    {
      "cell_type": "code",
      "metadata": {
        "id": "ZPUG0oiGvCZU"
      },
      "source": [
        "#Luas Permukaan bola & Volume bola\r\n",
        "phi=(22/7)\r\n",
        "r=int(input(\"masukkan panjang jari - jari \"))\r\n",
        "\r\n",
        "luasPermukaan = int(4*phi*(r*r))\r\n",
        "volume = int(4/3*phi*r*r*r)\r\n",
        "\r\n",
        "print(\"Luas Permukaan\", luasPermukaan)\r\n",
        "print(\"Volume Bola\", volume)"
      ],
      "execution_count": null,
      "outputs": []
    },
    {
      "cell_type": "code",
      "metadata": {
        "id": "B-X9x-yOvfC5"
      },
      "source": [
        "#Luas permukaan tabung & volume tabung\r\n",
        "phi=(22/7)\r\n",
        "r=int(input(\"masukkan panjang jari - jari \"))\r\n",
        "t=int(input(\"masukkan tinggi tabung \"))\r\n",
        "\r\n",
        "lp = int(2*phi*r*(r+t))\r\n",
        "v = int(phi*r*r*t)\r\n",
        "\r\n",
        "print(\"Luas Tabungnya : \", lp)\r\n",
        "print(\"Volume Tabungnya adalah\", v)"
      ],
      "execution_count": null,
      "outputs": []
    },
    {
      "cell_type": "code",
      "metadata": {
        "id": "W7Rq9W_MyGDV"
      },
      "source": [
        "#Luas permukaan kerucut & volume kerucut\r\n",
        "phi=(22/7)\r\n",
        "r=int(input(\"masukkan panjang jari - jari \"))\r\n",
        "t=int(input(\"masukkan tinggi kerucut \"))\r\n",
        "s=int(input(\"garis pelukis? \"))\r\n",
        "\r\n",
        "lp = int((phi*r*r) + (phi*r*s))\r\n",
        "v = int(1/3*phi*r*r*t)\r\n",
        "\r\n",
        "print(\"Maka Luas Kerucutnya adalah\", lp)\r\n",
        "print(\"dan Volume Kerucutnya adalah\", v)"
      ],
      "execution_count": null,
      "outputs": []
    }
  ]
}