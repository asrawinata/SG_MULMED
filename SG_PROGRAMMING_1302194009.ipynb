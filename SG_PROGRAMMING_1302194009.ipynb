{
  "nbformat": 4,
  "nbformat_minor": 0,
  "metadata": {
    "colab": {
      "name": "SG_PROGRAMMING_1302194009.ipynb",
      "provenance": []
    },
    "kernelspec": {
      "name": "python3",
      "display_name": "Python 3"
    }
  },
  "cells": [
    {
      "cell_type": "code",
      "metadata": {
        "id": "ZPUG0oiGvCZU"
      },
      "source": [
        "phi=(22/7)\r\n",
        "r=int(input(\"masukkan panjang jari - jari\"))\r\n",
        "\r\n",
        "luasPermukaan = int(4*phi*(r*r))\r\n",
        "volume = int(4/3*phi*r*r*r)\r\n",
        "\r\n",
        "print(\"Luas Permukaan\", luasPermukaan)\r\n",
        "print(\"Volume Bola\", volume)"
      ],
      "execution_count": null,
      "outputs": []
    },
    {
      "cell_type": "code",
      "metadata": {
        "colab": {
          "base_uri": "https://localhost:8080/"
        },
        "id": "B-X9x-yOvfC5",
        "outputId": "7dbafaf7-c106-4417-ca29-24b8ced29632"
      },
      "source": [
        "phi=(22/7)\r\n",
        "r=int(input(\"masukkan panjang jari - jari \"))\r\n",
        "t=int(input(\"masukkan tinggi tabung \"))\r\n",
        "\r\n",
        "lp = int(2*phi*r*(r+t))\r\n",
        "v = int(phi*r*r*t)\r\n",
        "\r\n",
        "print(\"Luas Tabungnya : \", lp)\r\n",
        "print(\"Volume Tabungnya adalah\", v)"
      ],
      "execution_count": 7,
      "outputs": [
        {
          "output_type": "stream",
          "text": [
            "masukkan panjang jari - jari 10\n",
            "masukkan tinggi tabung 150\n",
            "Luas Tabungnya :  10057\n",
            "Volume Tabungnya adalah 47142\n"
          ],
          "name": "stdout"
        }
      ]
    },
    {
      "cell_type": "code",
      "metadata": {
        "id": "W7Rq9W_MyGDV"
      },
      "source": [
        "phi=(22/7)\r\n",
        "r=int(input(\"masukkan panjang jari - jari \"))\r\n",
        "t=int(input(\"masukkan tinggi kerucut \"))\r\n",
        "s=int(input(\"garis pelukis? \"))\r\n",
        "\r\n",
        "lp = int((phi*r*r) + (phi*r*s))\r\n",
        "v = int(1/3*phi*r*r*t)\r\n",
        "\r\n",
        "print(\"Maka Luas Kerucutnya adalah\", lp)\r\n",
        "print(\"dan Volume Kerucutnya adalah\", v)"
      ],
      "execution_count": null,
      "outputs": []
    }
  ]
}